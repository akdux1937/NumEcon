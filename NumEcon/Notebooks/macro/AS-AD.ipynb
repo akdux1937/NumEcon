{
 "cells": [
  {
   "cell_type": "markdown",
   "metadata": {
    "toc": true
   },
   "source": [
    "<h1>Table of Contents<span class=\"tocSkip\"></span></h1>\n",
    "<div class=\"toc\"><ul class=\"toc-item\"><li><span><a href=\"#AS-AD-model\" data-toc-modified-id=\"AS-AD-model-1\"><span class=\"toc-item-num\">1&nbsp;&nbsp;</span>AS-AD model</a></span></li></ul></div>"
   ]
  },
  {
   "cell_type": "code",
   "execution_count": 1,
   "metadata": {
    "ExecuteTime": {
     "end_time": "2019-01-04T08:26:02.376714Z",
     "start_time": "2019-01-04T08:26:01.131940Z"
    },
    "code_folding": []
   },
   "outputs": [],
   "source": [
    "# setup\n",
    "%matplotlib inline\n",
    "%load_ext autoreload\n",
    "%autoreload 1\n",
    "\n",
    "import numecon.macro.asad as asad\n",
    "%aimport numecon.macro.asad"
   ]
  },
  {
   "cell_type": "code",
   "execution_count": 2,
   "metadata": {
    "ExecuteTime": {
     "end_time": "2019-01-04T08:26:02.882902Z",
     "start_time": "2019-01-04T08:26:02.873895Z"
    },
    "code_folding": [
     0
    ]
   },
   "outputs": [
    {
     "data": {
      "text/html": [
       "<style>\n",
       ".output_wrapper, .output {\n",
       "    height:auto !important;\n",
       "    max-height:5000px;  /* your desired max-height here */\n",
       "}\n",
       ".output_scroll {\n",
       "    box-shadow:none !important;\n",
       "    webkit-box-shadow:none !important;\n",
       "}\n",
       "</style>"
      ],
      "text/plain": [
       "<IPython.core.display.HTML object>"
      ]
     },
     "metadata": {},
     "output_type": "display_data"
    }
   ],
   "source": [
    "%%html\n",
    "<style>\n",
    ".output_wrapper, .output {\n",
    "    height:auto !important;\n",
    "    max-height:5000px;  /* your desired max-height here */\n",
    "}\n",
    ".output_scroll {\n",
    "    box-shadow:none !important;\n",
    "    webkit-box-shadow:none !important;\n",
    "}\n",
    "</style>"
   ]
  },
  {
   "cell_type": "markdown",
   "metadata": {},
   "source": [
    "# AS-AD model"
   ]
  },
  {
   "cell_type": "markdown",
   "metadata": {},
   "source": [
    "Consider the following AS-AD model:"
   ]
  },
  {
   "cell_type": "markdown",
   "metadata": {},
   "source": [
    "$$ \\begin{eqnarray*}\n",
    "\\hat{y}_{t} &=& b\\hat{y}_{t-1}+\\beta(z_{t}-z_{t-1})-a\\beta s_{t}+a\\beta\\phi s_{t-1} \\\\\n",
    "\\hat{\\pi}_{t} &=& b\\hat{\\pi}_{t-1}+\\beta\\gamma z_{t}-\\beta\\phi\\gamma z_{t}+\\beta s_{t}-\\beta\\phi s_{t-1} \\\\\n",
    "z_{t} &=& \\delta z_{t-1}+x_{t}, x_{t} \\sim N(0,\\sigma_x^2) \\\\\n",
    "s_{t} &=& \\omega s_{t-1}+c_{t}, c_{t} \\sim N(0,\\sigma_c^2) \\\\\n",
    "b &=& \\frac{1+a\\phi\\gamma}{1+a\\gamma} \\\\\n",
    "\\beta &=& \\frac{1}{1+a\\gamma}\n",
    "\\end{eqnarray*} $$\n"
   ]
  },
  {
   "cell_type": "code",
   "execution_count": 3,
   "metadata": {
    "ExecuteTime": {
     "end_time": "2019-01-04T08:26:08.852060Z",
     "start_time": "2019-01-04T08:26:08.297280Z"
    },
    "scrolled": true
   },
   "outputs": [
    {
     "data": {
      "application/vnd.jupyter.widget-view+json": {
       "model_id": "25d4cc9fad3e4a8a9597c626aa5f85e5",
       "version_major": 2,
       "version_minor": 0
      },
      "text/plain": [
       "interactive(children=(FloatSlider(value=1.0, description='$\\\\sigma_{x}$', max=2.0, step=0.01), FloatSlider(val…"
      ]
     },
     "metadata": {},
     "output_type": "display_data"
    }
   ],
   "source": [
    "asad.simulate()"
   ]
  }
 ],
 "metadata": {
  "kernelspec": {
   "display_name": "Python 3",
   "language": "python",
   "name": "python3"
  },
  "language_info": {
   "codemirror_mode": {
    "name": "ipython",
    "version": 3
   },
   "file_extension": ".py",
   "mimetype": "text/x-python",
   "name": "python",
   "nbconvert_exporter": "python",
   "pygments_lexer": "ipython3",
   "version": "3.7.0"
  },
  "toc": {
   "base_numbering": 1,
   "nav_menu": {},
   "number_sections": true,
   "sideBar": true,
   "skip_h1_title": false,
   "title_cell": "Table of Contents",
   "title_sidebar": "Contents",
   "toc_cell": true,
   "toc_position": {},
   "toc_section_display": true,
   "toc_window_display": false
  }
 },
 "nbformat": 4,
 "nbformat_minor": 2
}
