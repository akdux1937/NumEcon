{
 "cells": [
  {
   "cell_type": "code",
   "execution_count": 4,
   "metadata": {},
   "outputs": [],
   "source": [
    "%load_ext autoreload\n",
    "%autoreload 2"
   ]
  },
  {
   "cell_type": "code",
   "execution_count": 7,
   "metadata": {},
   "outputs": [
    {
     "name": "stdout",
     "output_type": "stream",
     "text": [
      "Processing /home/jakobjulelben/Github/NumEcon\n",
      "Building wheels for collected packages: NumEcon\n",
      "  Running setup.py bdist_wheel for NumEcon ... \u001b[?25ldone\n",
      "\u001b[?25h  Stored in directory: /tmp/pip-ephem-wheel-cache-jjtxis21/wheels/e4/54/a9/f6228ebe3aa0c10a45321e5fcbf2aa785a4e9889f787bac49e\n",
      "Successfully built NumEcon\n",
      "Installing collected packages: NumEcon\n",
      "  Found existing installation: NumEcon 0.1.0\n",
      "    Uninstalling NumEcon-0.1.0:\n",
      "      Successfully uninstalled NumEcon-0.1.0\n",
      "Successfully installed NumEcon-0.1.0\n"
     ]
    }
   ],
   "source": [
    "!pip install ../..\n",
    "import NumEcon"
   ]
  }
 ],
 "metadata": {
  "kernelspec": {
   "display_name": "Python 3",
   "language": "python",
   "name": "python3"
  },
  "language_info": {
   "codemirror_mode": {
    "name": "ipython",
    "version": 3
   },
   "file_extension": ".py",
   "mimetype": "text/x-python",
   "name": "python",
   "nbconvert_exporter": "python",
   "pygments_lexer": "ipython3",
   "version": "3.7.1"
  }
 },
 "nbformat": 4,
 "nbformat_minor": 2
}
